{
 "cells": [
  {
   "cell_type": "code",
   "execution_count": 33,
   "metadata": {},
   "outputs": [],
   "source": [
    "import pandas as pd\n",
    "import numpy as np\n",
    "import matplotlib.pyplot as plt\n",
    "%matplotlib inline\n",
    "import seaborn as sns\n",
    "import plotly.express as px\n",
    "import warnings\n",
    "warnings.filterwarnings('ignore')"
   ]
  },
  {
   "cell_type": "code",
   "execution_count": 2,
   "metadata": {},
   "outputs": [],
   "source": [
    "df=pd.read_csv(\"D:/Projects/wallstreetbetx/Data/2022-06-10_df_tickets.csv\")"
   ]
  },
  {
   "cell_type": "code",
   "execution_count": 3,
   "metadata": {},
   "outputs": [
    {
     "data": {
      "text/html": [
       "<div>\n",
       "<style scoped>\n",
       "    .dataframe tbody tr th:only-of-type {\n",
       "        vertical-align: middle;\n",
       "    }\n",
       "\n",
       "    .dataframe tbody tr th {\n",
       "        vertical-align: top;\n",
       "    }\n",
       "\n",
       "    .dataframe thead th {\n",
       "        text-align: right;\n",
       "    }\n",
       "</style>\n",
       "<table border=\"1\" class=\"dataframe\">\n",
       "  <thead>\n",
       "    <tr style=\"text-align: right;\">\n",
       "      <th></th>\n",
       "      <th>Ticker</th>\n",
       "      <th>Mentions</th>\n",
       "    </tr>\n",
       "  </thead>\n",
       "  <tbody>\n",
       "    <tr>\n",
       "      <th>0</th>\n",
       "      <td>SPY</td>\n",
       "      <td>22</td>\n",
       "    </tr>\n",
       "    <tr>\n",
       "      <th>1</th>\n",
       "      <td>MLFB</td>\n",
       "      <td>11</td>\n",
       "    </tr>\n",
       "    <tr>\n",
       "      <th>2</th>\n",
       "      <td>TSLA</td>\n",
       "      <td>10</td>\n",
       "    </tr>\n",
       "    <tr>\n",
       "      <th>3</th>\n",
       "      <td>CPI</td>\n",
       "      <td>9</td>\n",
       "    </tr>\n",
       "    <tr>\n",
       "      <th>4</th>\n",
       "      <td>SNPW</td>\n",
       "      <td>9</td>\n",
       "    </tr>\n",
       "    <tr>\n",
       "      <th>5</th>\n",
       "      <td>CARV</td>\n",
       "      <td>7</td>\n",
       "    </tr>\n",
       "    <tr>\n",
       "      <th>6</th>\n",
       "      <td>PQEFF</td>\n",
       "      <td>6</td>\n",
       "    </tr>\n",
       "    <tr>\n",
       "      <th>7</th>\n",
       "      <td>RQHTF</td>\n",
       "      <td>6</td>\n",
       "    </tr>\n",
       "    <tr>\n",
       "      <th>8</th>\n",
       "      <td>CTXR</td>\n",
       "      <td>6</td>\n",
       "    </tr>\n",
       "    <tr>\n",
       "      <th>9</th>\n",
       "      <td>BBIG</td>\n",
       "      <td>6</td>\n",
       "    </tr>\n",
       "    <tr>\n",
       "      <th>10</th>\n",
       "      <td>AC</td>\n",
       "      <td>5</td>\n",
       "    </tr>\n",
       "    <tr>\n",
       "      <th>11</th>\n",
       "      <td>IPO</td>\n",
       "      <td>5</td>\n",
       "    </tr>\n",
       "    <tr>\n",
       "      <th>12</th>\n",
       "      <td>AMLH</td>\n",
       "      <td>5</td>\n",
       "    </tr>\n",
       "    <tr>\n",
       "      <th>13</th>\n",
       "      <td>TWTR</td>\n",
       "      <td>5</td>\n",
       "    </tr>\n",
       "    <tr>\n",
       "      <th>14</th>\n",
       "      <td>BNXAF</td>\n",
       "      <td>5</td>\n",
       "    </tr>\n",
       "    <tr>\n",
       "      <th>15</th>\n",
       "      <td>AVCT</td>\n",
       "      <td>4</td>\n",
       "    </tr>\n",
       "    <tr>\n",
       "      <th>16</th>\n",
       "      <td>SIRC</td>\n",
       "      <td>4</td>\n",
       "    </tr>\n",
       "    <tr>\n",
       "      <th>17</th>\n",
       "      <td>AMZN</td>\n",
       "      <td>4</td>\n",
       "    </tr>\n",
       "    <tr>\n",
       "      <th>18</th>\n",
       "      <td>HUGE</td>\n",
       "      <td>4</td>\n",
       "    </tr>\n",
       "    <tr>\n",
       "      <th>19</th>\n",
       "      <td>AI</td>\n",
       "      <td>4</td>\n",
       "    </tr>\n",
       "    <tr>\n",
       "      <th>20</th>\n",
       "      <td>SFIO</td>\n",
       "      <td>4</td>\n",
       "    </tr>\n",
       "    <tr>\n",
       "      <th>21</th>\n",
       "      <td>SP</td>\n",
       "      <td>4</td>\n",
       "    </tr>\n",
       "    <tr>\n",
       "      <th>22</th>\n",
       "      <td>NOVC</td>\n",
       "      <td>4</td>\n",
       "    </tr>\n",
       "    <tr>\n",
       "      <th>23</th>\n",
       "      <td>AAPL</td>\n",
       "      <td>4</td>\n",
       "    </tr>\n",
       "    <tr>\n",
       "      <th>24</th>\n",
       "      <td>CN</td>\n",
       "      <td>4</td>\n",
       "    </tr>\n",
       "    <tr>\n",
       "      <th>25</th>\n",
       "      <td>DKNG</td>\n",
       "      <td>4</td>\n",
       "    </tr>\n",
       "    <tr>\n",
       "      <th>26</th>\n",
       "      <td>TGT</td>\n",
       "      <td>4</td>\n",
       "    </tr>\n",
       "    <tr>\n",
       "      <th>27</th>\n",
       "      <td>ITOX</td>\n",
       "      <td>4</td>\n",
       "    </tr>\n",
       "  </tbody>\n",
       "</table>\n",
       "</div>"
      ],
      "text/plain": [
       "   Ticker  Mentions\n",
       "0     SPY        22\n",
       "1    MLFB        11\n",
       "2    TSLA        10\n",
       "3     CPI         9\n",
       "4    SNPW         9\n",
       "5    CARV         7\n",
       "6   PQEFF         6\n",
       "7   RQHTF         6\n",
       "8    CTXR         6\n",
       "9    BBIG         6\n",
       "10     AC         5\n",
       "11    IPO         5\n",
       "12   AMLH         5\n",
       "13   TWTR         5\n",
       "14  BNXAF         5\n",
       "15   AVCT         4\n",
       "16   SIRC         4\n",
       "17   AMZN         4\n",
       "18   HUGE         4\n",
       "19     AI         4\n",
       "20   SFIO         4\n",
       "21     SP         4\n",
       "22   NOVC         4\n",
       "23   AAPL         4\n",
       "24     CN         4\n",
       "25   DKNG         4\n",
       "26    TGT         4\n",
       "27   ITOX         4"
      ]
     },
     "execution_count": 3,
     "metadata": {},
     "output_type": "execute_result"
    }
   ],
   "source": [
    "df"
   ]
  },
  {
   "cell_type": "code",
   "execution_count": 8,
   "metadata": {},
   "outputs": [],
   "source": [
    "API_KEY=\"T5188JTJK6FNUTB2\""
   ]
  },
  {
   "cell_type": "code",
   "execution_count": 25,
   "metadata": {},
   "outputs": [
    {
     "data": {
      "image/png": "[encoded data removed]",
      "text/plain": [
       "<Figure size 432x288 with 1 Axes>"
      ]
     },
     "metadata": {
      "needs_background": "light"
     },
     "output_type": "display_data"
    }
   ],
   "source": [
    "ts = TimeSeries(key=API_KEY, output_format='pandas')\n",
    "data, meta_data = ts.get_intraday(symbol='SPY', interval='1min', outputsize='full')\n",
    "data['4. close'].plot()\n",
    "plt.title('Intraday Times Series for the \"SPY\" stock (1 min)')\n",
    "plt.show()"
   ]
  },
  {
   "cell_type": "code",
   "execution_count": 36,
   "metadata": {},
   "outputs": [
    {
     "name": "stdout",
     "output_type": "stream",
     "text": [
      "[{'01. symbol': 'SPY', '02. open': '409.3400', '03. high': '411.7400', '04. low': '401.4400', '05. price': '401.4400', '06. volume': '86289796', '07. latest trading day': '2022-06-09', '08. previous close': '411.2200', '09. change': '-9.7800', '10. change percent': '-2.3783%'}, {'01. symbol': 'MLFB', '02. open': '0.0230', '03. high': '0.0238', '04. low': '0.0215', '05. price': '0.0238', '06. volume': '1438957', '07. latest trading day': '2022-06-09', '08. previous close': '0.0228', '09. change': '0.0010', '10. change percent': '4.3860%'}, {'01. symbol': 'TSLA', '02. open': '748.0200', '03. high': '766.6399', '04. low': '717.9800', '05. price': '719.1200', '06. volume': '32163769', '07. latest trading day': '2022-06-09', '08. previous close': '725.6000', '09. change': '-6.4800', '10. change percent': '-0.8931%'}]\n"
     ]
    }
   ],
   "source": [
    "import asyncio\n",
    "from alpha_vantage.async_support.timeseries import TimeSeries\n",
    "import nest_asyncio\n",
    "nest_asyncio.apply()\n",
    "\n",
    "symbols = ['SPY', 'MLFB', 'TSLA']\n",
    "\n",
    "API_KEY=\"T5188JTJK6FNUTB2\"\n",
    "async def get_data(symbol):\n",
    "    ts = TimeSeries(key=API_KEY)\n",
    "    data, _ = await ts.get_quote_endpoint(symbol)\n",
    "    await ts.close()\n",
    "    return data\n",
    "\n",
    "loop = asyncio.get_event_loop()\n",
    "tasks = [get_data(symbol) for symbol in symbols]\n",
    "group1 = asyncio.gather(*tasks)\n",
    "results = loop.run_until_complete(group1)\n",
    "print(results)\n"
   ]
  },
  {
   "cell_type": "code",
   "execution_count": 39,
   "metadata": {},
   "outputs": [
    {
     "data": {
      "text/plain": [
       "'401.4400'"
      ]
     },
     "execution_count": 39,
     "metadata": {},
     "output_type": "execute_result"
    }
   ],
   "source": [
    "results[0]['05. price']\n"
   ]
  },
  {
   "cell_type": "code",
   "execution_count": 40,
   "metadata": {},
   "outputs": [
    {
     "name": "stdout",
     "output_type": "stream",
     "text": [
      "[{'Meta Data': {'1. Information': 'Intraday (5min) open, high, low, close prices and volume', '2. Symbol': 'AAPL', '3. Last Refreshed': '2022-06-09 20:00:00', '4. Interval': '5min', '5. Output Size': 'Compact', '6. Time Zone': 'US/Eastern'}, 'Time Series (5min)': {'2022-06-09 20:00:00': {'1. open': '143.0200', '2. high': '143.0900', '3. low': '142.9400', '4. close': '143.0000', '5. volume': '27506'}, '2022-06-09 19:55:00': {'1. open': '142.9400', '2. high': '143.1400', '3. low': '142.9100', '4. close': '143.1000', '5. volume': '6115'}, '2022-06-09 19:50:00': {'1. open': '142.9800', '2. high': '142.9900', '3. low': '142.9400', '4. close': '142.9400', '5. volume': '2103'}, '2022-06-09 19:45:00': {'1. open': '142.9500', '2. high': '143.0000', '3. low': '142.9500', '4. close': '143.0000', '5. volume': '3617'}, '2022-06-09 19:40:00': {'1. open': '142.9300', '2. high': '143.0000', '3. low': '142.8600', '4. close': '143.0000', '5. volume': '4023'}, '2022-06-09 19:35:00': {'1. open': '142.9800', '2. high': '143.0700', '3. low': '142.9800', '4. close': '142.9900', '5. volume': '7912'}, '2022-06-09 19:30:00': {'1. open': '142.8600', '2. high': '142.9800', '3. low': '142.8400', '4. close': '142.9200', '5. volume': '2433'}, '2022-06-09 19:25:00': {'1. open': '142.8100', '2. high': '142.8700', '3. low': '142.8000', '4. close': '142.8500', '5. volume': '5699'}, '2022-06-09 19:20:00': {'1. open': '142.8800', '2. high': '142.8800', '3. low': '142.7500', '4. close': '142.7500', '5. volume': '6921'}, '2022-06-09 19:15:00': {'1. open': '142.8601', '2. high': '142.8800', '3. low': '142.8300', '4. close': '142.8300', '5. volume': '4158'}, '2022-06-09 19:10:00': {'1. open': '142.8700', '2. high': '142.8800', '3. low': '142.8600', '4. close': '142.8800', '5. volume': '1930'}, '2022-06-09 19:05:00': {'1. open': '142.8600', '2. high': '142.8800', '3. low': '142.8600', '4. close': '142.8800', '5. volume': '1020'}, '2022-06-09 19:00:00': {'1. open': '142.9100', '2. high': '142.9200', '3. low': '142.9000', '4. close': '142.9000', '5. volume': '1210'}, '2022-06-09 18:55:00': {'1. open': '142.8900', '2. high': '142.9300', '3. low': '142.8800', '4. close': '142.8800', '5. volume': '835'}, '2022-06-09 18:50:00': {'1. open': '142.8800', '2. high': '142.8800', '3. low': '142.8500', '4. close': '142.8500', '5. volume': '3758'}, '2022-06-09 18:45:00': {'1. open': '142.8800', '2. high': '142.8800', '3. low': '142.8500', '4. close': '142.8800', '5. volume': '3230'}, '2022-06-09 18:40:00': {'1. open': '142.8600', '2. high': '142.8800', '3. low': '142.8501', '4. close': '142.8800', '5. volume': '1904'}, '2022-06-09 18:35:00': {'1. open': '142.8300', '2. high': '142.8800', '3. low': '142.8300', '4. close': '142.8600', '5. volume': '2725'}, '2022-06-09 18:30:00': {'1. open': '142.8900', '2. high': '142.9600', '3. low': '142.8900', '4. close': '142.8900', '5. volume': '5599'}, '2022-06-09 18:25:00': {'1. open': '142.9100', '2. high': '142.9100', '3. low': '142.8200', '4. close': '142.8900', '5. volume': '4747'}, '2022-06-09 18:20:00': {'1. open': '142.9700', '2. high': '142.9700', '3. low': '142.8700', '4. close': '142.9100', '5. volume': '2545'}, '2022-06-09 18:15:00': {'1. open': '143.0000', '2. high': '143.0200', '3. low': '142.9000', '4. close': '142.9000', '5. volume': '2335'}, '2022-06-09 18:10:00': {'1. open': '143.0300', '2. high': '143.0700', '3. low': '143.0000', '4. close': '143.0000', '5. volume': '3868'}, '2022-06-09 18:05:00': {'1. open': '143.0300', '2. high': '143.2300', '3. low': '143.0100', '4. close': '143.0900', '5. volume': '20664'}, '2022-06-09 18:00:00': {'1. open': '143.0700', '2. high': '143.0899', '3. low': '143.0484', '4. close': '143.0484', '5. volume': '4720'}, '2022-06-09 17:55:00': {'1. open': '143.1300', '2. high': '143.1300', '3. low': '142.6400', '4. close': '143.0700', '5. volume': '327442'}, '2022-06-09 17:50:00': {'1. open': '143.0600', '2. high': '143.1399', '3. low': '143.0000', '4. close': '143.0900', '5. volume': '11643'}, '2022-06-09 17:45:00': {'1. open': '143.0800', '2. high': '143.1100', '3. low': '143.0100', '4. close': '143.0600', '5. volume': '5618'}, '2022-06-09 17:40:00': {'1. open': '143.1000', '2. high': '143.1000', '3. low': '143.0200', '4. close': '143.0700', '5. volume': '8268'}, '2022-06-09 17:35:00': {'1. open': '142.9800', '2. high': '143.1000', '3. low': '142.9700', '4. close': '143.0800', '5. volume': '7967'}, '2022-06-09 17:30:00': {'1. open': '142.9200', '2. high': '143.0000', '3. low': '142.9000', '4. close': '143.0000', '5. volume': '5549'}, '2022-06-09 17:25:00': {'1. open': '142.9600', '2. high': '143.0000', '3. low': '142.9000', '4. close': '142.9100', '5. volume': '5983'}, '2022-06-09 17:20:00': {'1. open': '143.0400', '2. high': '143.0800', '3. low': '142.9500', '4. close': '142.9600', '5. volume': '12522'}, '2022-06-09 17:15:00': {'1. open': '142.9400', '2. high': '143.0500', '3. low': '142.9400', '4. close': '143.0400', '5. volume': '33479'}, '2022-06-09 17:10:00': {'1. open': '142.8700', '2. high': '142.9500', '3. low': '142.8700', '4. close': '142.9300', '5. volume': '13365'}, '2022-06-09 17:05:00': {'1. open': '142.8900', '2. high': '142.9000', '3. low': '142.8500', '4. close': '142.9000', '5. volume': '12586'}, '2022-06-09 17:00:00': {'1. open': '142.8000', '2. high': '142.9000', '3. low': '142.7500', '4. close': '142.8900', '5. volume': '15211'}, '2022-06-09 16:55:00': {'1. open': '142.8100', '2. high': '142.8500', '3. low': '142.6400', '4. close': '142.8500', '5. volume': '106005'}, '2022-06-09 16:50:00': {'1. open': '142.8000', '2. high': '142.8200', '3. low': '142.7600', '4. close': '142.7901', '5. volume': '5597'}, '2022-06-09 16:45:00': {'1. open': '142.7300', '2. high': '142.8200', '3. low': '142.7000', '4. close': '142.8200', '5. volume': '25101'}, '2022-06-09 16:40:00': {'1. open': '142.7400', '2. high': '142.8000', '3. low': '142.6800', '4. close': '142.7399', '5. volume': '31917'}, '2022-06-09 16:35:00': {'1. open': '142.7500', '2. high': '142.8000', '3. low': '142.6400', '4. close': '142.7400', '5. volume': '19386'}, '2022-06-09 16:30:00': {'1. open': '142.6300', '2. high': '142.7500', '3. low': '142.6000', '4. close': '142.7500', '5. volume': '330406'}, '2022-06-09 16:25:00': {'1. open': '142.6300', '2. high': '142.7000', '3. low': '142.6100', '4. close': '142.6600', '5. volume': '29102'}, '2022-06-09 16:20:00': {'1. open': '142.5701', '2. high': '142.6400', '3. low': '142.5304', '4. close': '142.6300', '5. volume': '266350'}, '2022-06-09 16:15:00': {'1. open': '142.4800', '2. high': '142.6400', '3. low': '142.4500', '4. close': '142.6000', '5. volume': '558619'}, '2022-06-09 16:10:00': {'1. open': '142.5200', '2. high': '142.6400', '3. low': '142.4600', '4. close': '142.4700', '5. volume': '55563'}, '2022-06-09 16:05:00': {'1. open': '142.6400', '2. high': '142.8400', '3. low': '142.0000', '4. close': '142.5000', '5. volume': '1240286'}, '2022-06-09 16:00:00': {'1. open': '143.2200', '2. high': '143.2900', '3. low': '142.5300', '4. close': '142.6050', '5. volume': '3122464'}, '2022-06-09 15:55:00': {'1. open': '143.1400', '2. high': '143.4350', '3. low': '142.9000', '4. close': '143.2200', '5. volume': '1979099'}, '2022-06-09 15:50:00': {'1. open': '143.3100', '2. high': '143.3900', '3. low': '142.9850', '4. close': '143.1350', '5. volume': '1688312'}, '2022-06-09 15:45:00': {'1. open': '143.6600', '2. high': '143.6600', '3. low': '143.2699', '4. close': '143.3000', '5. volume': '1195899'}, '2022-06-09 15:40:00': {'1. open': '143.5800', '2. high': '143.8000', '3. low': '143.5700', '4. close': '143.6600', '5. volume': '807915'}, '2022-06-09 15:35:00': {'1. open': '143.6200', '2. high': '143.8000', '3. low': '143.5700', '4. close': '143.5825', '5. volume': '798721'}, '2022-06-09 15:30:00': {'1. open': '144.0900', '2. high': '144.0900', '3. low': '143.6100', '4. close': '143.6150', '5. volume': '917520'}, '2022-06-09 15:25:00': {'1. open': '143.8675', '2. high': '144.1200', '3. low': '143.8300', '4. close': '144.0899', '5. volume': '902562'}, '2022-06-09 15:20:00': {'1. open': '143.9450', '2. high': '144.0500', '3. low': '143.8200', '4. close': '143.8678', '5. volume': '1085316'}, '2022-06-09 15:15:00': {'1. open': '144.0900', '2. high': '144.1700', '3. low': '143.9200', '4. close': '143.9500', '5. volume': '980163'}, '2022-06-09 15:10:00': {'1. open': '144.2600', '2. high': '144.3400', '3. low': '143.8850', '4. close': '144.0850', '5. volume': '1255712'}, '2022-06-09 15:05:00': {'1. open': '144.7550', '2. high': '144.7900', '3. low': '144.2000', '4. close': '144.2650', '5. volume': '960435'}, '2022-06-09 15:00:00': {'1. open': '145.0500', '2. high': '145.1200', '3. low': '144.7400', '4. close': '144.7550', '5. volume': '861852'}, '2022-06-09 14:55:00': {'1. open': '145.1020', '2. high': '145.1800', '3. low': '145.0100', '4. close': '145.0601', '5. volume': '459010'}, '2022-06-09 14:50:00': {'1. open': '145.0700', '2. high': '145.2600', '3. low': '145.0400', '4. close': '145.1050', '5. volume': '433275'}, '2022-06-09 14:45:00': {'1. open': '145.1100', '2. high': '145.2100', '3. low': '145.0300', '4. close': '145.0800', '5. volume': '517652'}, '2022-06-09 14:40:00': {'1. open': '145.1968', '2. high': '145.2800', '3. low': '145.0700', '4. close': '145.1046', '5. volume': '530114'}, '2022-06-09 14:35:00': {'1. open': '145.5400', '2. high': '145.5400', '3. low': '145.1600', '4. close': '145.1900', '5. volume': '713300'}, '2022-06-09 14:30:00': {'1. open': '145.4200', '2. high': '145.6600', '3. low': '145.3300', '4. close': '145.5350', '5. volume': '498199'}, '2022-06-09 14:25:00': {'1. open': '145.6200', '2. high': '145.7299', '3. low': '145.3715', '4. close': '145.4200', '5. volume': '464621'}, '2022-06-09 14:20:00': {'1. open': '145.7060', '2. high': '145.7600', '3. low': '145.5500', '4. close': '145.6200', '5. volume': '272602'}, '2022-06-09 14:15:00': {'1. open': '145.7800', '2. high': '145.7950', '3. low': '145.5300', '4. close': '145.7001', '5. volume': '457732'}, '2022-06-09 14:10:00': {'1. open': '145.7500', '2. high': '145.8800', '3. low': '145.6400', '4. close': '145.7700', '5. volume': '416114'}, '2022-06-09 14:05:00': {'1. open': '146.0400', '2. high': '146.0400', '3. low': '145.7300', '4. close': '145.7600', '5. volume': '391449'}, '2022-06-09 14:00:00': {'1. open': '145.8500', '2. high': '146.0500', '3. low': '145.8200', '4. close': '146.0399', '5. volume': '379473'}, '2022-06-09 13:55:00': {'1. open': '145.7816', '2. high': '145.9000', '3. low': '145.7600', '4. close': '145.8600', '5. volume': '337363'}, '2022-06-09 13:50:00': {'1. open': '145.6890', '2. high': '145.7899', '3. low': '145.5800', '4. close': '145.7899', '5. volume': '509699'}, '2022-06-09 13:45:00': {'1. open': '145.8950', '2. high': '145.9000', '3. low': '145.6200', '4. close': '145.6990', '5. volume': '562269'}, '2022-06-09 13:40:00': {'1. open': '145.9150', '2. high': '145.9400', '3. low': '145.7700', '4. close': '145.9000', '5. volume': '555048'}, '2022-06-09 13:35:00': {'1. open': '146.0300', '2. high': '146.0300', '3. low': '145.8100', '4. close': '145.9150', '5. volume': '568111'}, '2022-06-09 13:30:00': {'1. open': '146.1600', '2. high': '146.2000', '3. low': '145.9600', '4. close': '146.0350', '5. volume': '466787'}, '2022-06-09 13:25:00': {'1. open': '146.4576', '2. high': '146.5100', '3. low': '146.1300', '4. close': '146.1650', '5. volume': '406424'}, '2022-06-09 13:20:00': {'1. open': '146.4300', '2. high': '146.4800', '3. low': '146.3400', '4. close': '146.4500', '5. volume': '299851'}, '2022-06-09 13:15:00': {'1. open': '146.5001', '2. high': '146.5800', '3. low': '146.3800', '4. close': '146.4300', '5. volume': '350126'}, '2022-06-09 13:10:00': {'1. open': '146.4050', '2. high': '146.6400', '3. low': '146.4000', '4. close': '146.4950', '5. volume': '474155'}, '2022-06-09 13:05:00': {'1. open': '146.3800', '2. high': '146.5400', '3. low': '146.3180', '4. close': '146.4100', '5. volume': '436071'}, '2022-06-09 13:00:00': {'1. open': '146.1200', '2. high': '146.5200', '3. low': '146.0300', '4. close': '146.3700', '5. volume': '626775'}, '2022-06-09 12:55:00': {'1. open': '146.3401', '2. high': '146.4900', '3. low': '146.1063', '4. close': '146.1150', '5. volume': '483632'}, '2022-06-09 12:50:00': {'1. open': '146.3100', '2. high': '146.3400', '3. low': '146.2300', '4. close': '146.3400', '5. volume': '257958'}, '2022-06-09 12:45:00': {'1. open': '146.1500', '2. high': '146.3600', '3. low': '146.0900', '4. close': '146.3050', '5. volume': '383920'}, '2022-06-09 12:40:00': {'1. open': '146.2450', '2. high': '146.3900', '3. low': '146.1300', '4. close': '146.1400', '5. volume': '377689'}, '2022-06-09 12:35:00': {'1. open': '146.1600', '2. high': '146.3300', '3. low': '146.0600', '4. close': '146.2400', '5. volume': '451124'}, '2022-06-09 12:30:00': {'1. open': '145.9050', '2. high': '146.1950', '3. low': '145.8000', '4. close': '146.1586', '5. volume': '680751'}, '2022-06-09 12:25:00': {'1. open': '145.9600', '2. high': '146.0900', '3. low': '145.8400', '4. close': '145.9100', '5. volume': '465751'}, '2022-06-09 12:20:00': {'1. open': '145.9500', '2. high': '146.0000', '3. low': '145.8500', '4. close': '145.9600', '5. volume': '376961'}, '2022-06-09 12:15:00': {'1. open': '146.0900', '2. high': '146.1400', '3. low': '145.8100', '4. close': '145.9550', '5. volume': '601032'}, '2022-06-09 12:10:00': {'1. open': '146.1950', '2. high': '146.2600', '3. low': '146.0200', '4. close': '146.0950', '5. volume': '492150'}, '2022-06-09 12:05:00': {'1. open': '146.3300', '2. high': '146.4800', '3. low': '146.1200', '4. close': '146.1901', '5. volume': '482557'}, '2022-06-09 12:00:00': {'1. open': '146.1900', '2. high': '146.3799', '3. low': '146.1601', '4. close': '146.3199', '5. volume': '384041'}, '2022-06-09 11:55:00': {'1. open': '146.2200', '2. high': '146.2400', '3. low': '146.0300', '4. close': '146.1814', '5. volume': '621263'}, '2022-06-09 11:50:00': {'1. open': '146.7400', '2. high': '146.8000', '3. low': '146.1800', '4. close': '146.2100', '5. volume': '642285'}, '2022-06-09 11:45:00': {'1. open': '146.4300', '2. high': '146.9200', '3. low': '146.4300', '4. close': '146.7500', '5. volume': '715987'}}}, {'Meta Data': {'1. Information': 'Intraday (5min) open, high, low, close prices and volume', '2. Symbol': 'GOOG', '3. Last Refreshed': '2022-06-09 19:35:00', '4. Interval': '5min', '5. Output Size': 'Compact', '6. Time Zone': 'US/Eastern'}, 'Time Series (5min)': {'2022-06-09 19:35:00': {'1. open': '2302.2300', '2. high': '2302.2300', '3. low': '2302.2300', '4. close': '2302.2300', '5. volume': '181'}, '2022-06-09 17:55:00': {'1. open': '2298.3600', '2. high': '2298.3600', '3. low': '2298.3600', '4. close': '2298.3600', '5. volume': '6172'}, '2022-06-09 17:40:00': {'1. open': '2304.0000', '2. high': '2304.0000', '3. low': '2304.0000', '4. close': '2304.0000', '5. volume': '732'}, '2022-06-09 17:25:00': {'1. open': '2302.0000', '2. high': '2302.0000', '3. low': '2302.0000', '4. close': '2302.0000', '5. volume': '173'}, '2022-06-09 16:35:00': {'1. open': '2300.0000', '2. high': '2300.0000', '3. low': '2300.0000', '4. close': '2300.0000', '5. volume': '752'}, '2022-06-09 16:20:00': {'1. open': '2298.3600', '2. high': '2298.3600', '3. low': '2298.3600', '4. close': '2298.3600', '5. volume': '3156'}, '2022-06-09 16:15:00': {'1. open': '2298.3600', '2. high': '2298.3600', '3. low': '2298.3600', '4. close': '2298.3600', '5. volume': '6127'}, '2022-06-09 16:05:00': {'1. open': '2298.3600', '2. high': '2298.3600', '3. low': '2298.3600', '4. close': '2298.3600', '5. volume': '19682'}, '2022-06-09 16:00:00': {'1. open': '2309.1000', '2. high': '2310.4000', '3. low': '2297.3400', '4. close': '2297.5300', '5. volume': '63455'}, '2022-06-09 15:55:00': {'1. open': '2302.0600', '2. high': '2309.4100', '3. low': '2301.5900', '4. close': '2307.7000', '5. volume': '37646'}, '2022-06-09 15:50:00': {'1. open': '2303.9500', '2. high': '2305.3600', '3. low': '2300.2600', '4. close': '2303.5981', '5. volume': '30905'}, '2022-06-09 15:45:00': {'1. open': '2309.7700', '2. high': '2309.8100', '3. low': '2303.7900', '4. close': '2305.0000', '5. volume': '21820'}, '2022-06-09 15:40:00': {'1. open': '2310.0000', '2. high': '2312.6700', '3. low': '2307.4650', '4. close': '2310.0000', '5. volume': '17651'}, '2022-06-09 15:35:00': {'1. open': '2314.2600', '2. high': '2314.5250', '3. low': '2309.2900', '4. close': '2310.2000', '5. volume': '12538'}, '2022-06-09 15:30:00': {'1. open': '2322.7800', '2. high': '2322.7800', '3. low': '2316.1200', '4. close': '2316.1300', '5. volume': '10374'}, '2022-06-09 15:25:00': {'1. open': '2322.9800', '2. high': '2324.5999', '3. low': '2320.7700', '4. close': '2322.7800', '5. volume': '11903'}, '2022-06-09 15:20:00': {'1. open': '2320.1840', '2. high': '2325.0000', '3. low': '2320.1840', '4. close': '2323.5200', '5. volume': '14890'}, '2022-06-09 15:15:00': {'1. open': '2321.6600', '2. high': '2321.6600', '3. low': '2319.1300', '4. close': '2320.5600', '5. volume': '13652'}, '2022-06-09 15:10:00': {'1. open': '2324.3600', '2. high': '2324.9500', '3. low': '2319.6900', '4. close': '2320.6907', '5. volume': '12582'}, '2022-06-09 15:05:00': {'1. open': '2327.8100', '2. high': '2328.0000', '3. low': '2323.4400', '4. close': '2323.4400', '5. volume': '12579'}, '2022-06-09 15:00:00': {'1. open': '2334.5800', '2. high': '2334.5800', '3. low': '2328.1500', '4. close': '2328.7900', '5. volume': '9887'}, '2022-06-09 14:55:00': {'1. open': '2334.9650', '2. high': '2335.3200', '3. low': '2333.7100', '4. close': '2335.1600', '5. volume': '6437'}, '2022-06-09 14:50:00': {'1. open': '2333.9400', '2. high': '2335.8600', '3. low': '2332.3876', '4. close': '2333.7100', '5. volume': '7998'}, '2022-06-09 14:45:00': {'1. open': '2334.0000', '2. high': '2335.7300', '3. low': '2333.7200', '4. close': '2335.7300', '5. volume': '7727'}, '2022-06-09 14:40:00': {'1. open': '2333.9000', '2. high': '2334.3700', '3. low': '2332.1700', '4. close': '2332.2600', '5. volume': '7799'}, '2022-06-09 14:35:00': {'1. open': '2335.0100', '2. high': '2335.7000', '3. low': '2332.2001', '4. close': '2332.8900', '5. volume': '6704'}, '2022-06-09 14:30:00': {'1. open': '2333.1400', '2. high': '2336.0855', '3. low': '2333.0900', '4. close': '2336.0050', '5. volume': '6824'}, '2022-06-09 14:25:00': {'1. open': '2338.5800', '2. high': '2338.7100', '3. low': '2330.6830', '4. close': '2332.0025', '5. volume': '20857'}, '2022-06-09 14:20:00': {'1. open': '2344.3644', '2. high': '2344.8700', '3. low': '2339.2100', '4. close': '2339.3300', '5. volume': '10345'}, '2022-06-09 14:15:00': {'1. open': '2345.3100', '2. high': '2345.3100', '3. low': '2342.1784', '4. close': '2343.2003', '5. volume': '7806'}, '2022-06-09 14:10:00': {'1. open': '2343.6300', '2. high': '2345.2700', '3. low': '2342.2975', '4. close': '2345.2250', '5. volume': '7576'}, '2022-06-09 14:05:00': {'1. open': '2347.9500', '2. high': '2347.9500', '3. low': '2343.7050', '4. close': '2343.7700', '5. volume': '6173'}, '2022-06-09 14:00:00': {'1. open': '2345.6600', '2. high': '2347.4300', '3. low': '2344.3928', '4. close': '2347.4300', '5. volume': '4327'}, '2022-06-09 13:55:00': {'1. open': '2345.6640', '2. high': '2346.0800', '3. low': '2345.1550', '4. close': '2345.6700', '5. volume': '6743'}, '2022-06-09 13:50:00': {'1. open': '2341.1250', '2. high': '2344.4700', '3. low': '2340.9002', '4. close': '2344.1200', '5. volume': '10647'}, '2022-06-09 13:45:00': {'1. open': '2347.2100', '2. high': '2347.2100', '3. low': '2341.1375', '4. close': '2341.1375', '5. volume': '7093'}, '2022-06-09 13:40:00': {'1. open': '2348.1100', '2. high': '2348.1550', '3. low': '2344.8000', '4. close': '2347.1900', '5. volume': '7824'}, '2022-06-09 13:35:00': {'1. open': '2349.7500', '2. high': '2349.7500', '3. low': '2346.0600', '4. close': '2347.5000', '5. volume': '6405'}, '2022-06-09 13:30:00': {'1. open': '2354.9802', '2. high': '2355.6200', '3. low': '2351.0050', '4. close': '2351.9500', '5. volume': '7541'}, '2022-06-09 13:25:00': {'1. open': '2358.8000', '2. high': '2359.8600', '3. low': '2354.9800', '4. close': '2354.9800', '5. volume': '6774'}, '2022-06-09 13:20:00': {'1. open': '2362.3800', '2. high': '2362.3900', '3. low': '2358.5500', '4. close': '2358.8051', '5. volume': '5154'}, '2022-06-09 13:15:00': {'1. open': '2362.2750', '2. high': '2363.4000', '3. low': '2362.2750', '4. close': '2362.3800', '5. volume': '3548'}, '2022-06-09 13:10:00': {'1. open': '2363.6000', '2. high': '2365.0000', '3. low': '2362.1900', '4. close': '2362.3275', '5. volume': '6866'}, '2022-06-09 13:05:00': {'1. open': '2361.2900', '2. high': '2363.0000', '3. low': '2360.3400', '4. close': '2362.4877', '5. volume': '7882'}, '2022-06-09 13:00:00': {'1. open': '2356.3900', '2. high': '2362.5000', '3. low': '2355.0000', '4. close': '2361.2914', '5. volume': '9988'}, '2022-06-09 12:55:00': {'1. open': '2360.0000', '2. high': '2361.0350', '3. low': '2358.0501', '4. close': '2359.1000', '5. volume': '3285'}, '2022-06-09 12:50:00': {'1. open': '2360.7000', '2. high': '2361.1950', '3. low': '2358.0700', '4. close': '2358.8950', '5. volume': '4321'}, '2022-06-09 12:45:00': {'1. open': '2359.6600', '2. high': '2361.8000', '3. low': '2357.9940', '4. close': '2361.3000', '5. volume': '6484'}, '2022-06-09 12:40:00': {'1. open': '2360.8400', '2. high': '2360.8400', '3. low': '2358.8500', '4. close': '2359.0700', '5. volume': '5231'}, '2022-06-09 12:35:00': {'1. open': '2360.3400', '2. high': '2361.0000', '3. low': '2357.0500', '4. close': '2361.0000', '5. volume': '5826'}, '2022-06-09 12:30:00': {'1. open': '2354.8800', '2. high': '2360.5150', '3. low': '2354.8800', '4. close': '2359.0600', '5. volume': '9885'}, '2022-06-09 12:25:00': {'1. open': '2356.7800', '2. high': '2356.7900', '3. low': '2353.9200', '4. close': '2355.1650', '5. volume': '21230'}, '2022-06-09 12:20:00': {'1. open': '2353.6400', '2. high': '2357.1721', '3. low': '2352.0100', '4. close': '2356.7450', '5. volume': '6565'}, '2022-06-09 12:15:00': {'1. open': '2352.7700', '2. high': '2353.7899', '3. low': '2350.0000', '4. close': '2353.4400', '5. volume': '7078'}, '2022-06-09 12:10:00': {'1. open': '2353.6950', '2. high': '2354.7508', '3. low': '2350.8042', '4. close': '2354.1600', '5. volume': '6630'}, '2022-06-09 12:05:00': {'1. open': '2356.2800', '2. high': '2356.2800', '3. low': '2353.1740', '4. close': '2353.1740', '5. volume': '4036'}, '2022-06-09 12:00:00': {'1. open': '2354.3600', '2. high': '2357.0000', '3. low': '2354.3600', '4. close': '2354.6600', '5. volume': '9357'}, '2022-06-09 11:55:00': {'1. open': '2356.1900', '2. high': '2356.2700', '3. low': '2351.5400', '4. close': '2352.0000', '5. volume': '12279'}, '2022-06-09 11:50:00': {'1. open': '2363.9500', '2. high': '2365.4300', '3. low': '2355.8700', '4. close': '2357.2381', '5. volume': '10695'}, '2022-06-09 11:45:00': {'1. open': '2359.9900', '2. high': '2367.0000', '3. low': '2359.9900', '4. close': '2363.5300', '5. volume': '13237'}, '2022-06-09 11:40:00': {'1. open': '2356.5100', '2. high': '2358.2500', '3. low': '2354.8405', '4. close': '2358.2500', '5. volume': '8113'}, '2022-06-09 11:35:00': {'1. open': '2354.2300', '2. high': '2357.5309', '3. low': '2352.8200', '4. close': '2355.5200', '5. volume': '21281'}, '2022-06-09 11:30:00': {'1. open': '2353.3900', '2. high': '2355.9200', '3. low': '2351.2100', '4. close': '2354.8300', '5. volume': '24699'}, '2022-06-09 11:25:00': {'1. open': '2348.0800', '2. high': '2352.6000', '3. low': '2348.0000', '4. close': '2352.5500', '5. volume': '7169'}, '2022-06-09 11:20:00': {'1. open': '2346.9100', '2. high': '2348.9674', '3. low': '2346.3100', '4. close': '2348.1199', '5. volume': '7333'}, '2022-06-09 11:15:00': {'1. open': '2344.4500', '2. high': '2347.7608', '3. low': '2343.1867', '4. close': '2346.5000', '5. volume': '7702'}, '2022-06-09 11:10:00': {'1. open': '2342.0600', '2. high': '2346.6100', '3. low': '2340.5200', '4. close': '2346.6100', '5. volume': '10625'}, '2022-06-09 11:05:00': {'1. open': '2347.4600', '2. high': '2347.4600', '3. low': '2341.9525', '4. close': '2342.0000', '5. volume': '7168'}, '2022-06-09 11:00:00': {'1. open': '2343.8500', '2. high': '2349.2500', '3. low': '2343.8500', '4. close': '2348.4550', '5. volume': '7771'}, '2022-06-09 10:55:00': {'1. open': '2352.0200', '2. high': '2352.0200', '3. low': '2343.1000', '4. close': '2343.1000', '5. volume': '38276'}, '2022-06-09 10:50:00': {'1. open': '2353.2100', '2. high': '2354.4700', '3. low': '2350.6000', '4. close': '2352.7525', '5. volume': '8463'}, '2022-06-09 10:45:00': {'1. open': '2358.0000', '2. high': '2359.0000', '3. low': '2352.4800', '4. close': '2354.4500', '5. volume': '18826'}, '2022-06-09 10:40:00': {'1. open': '2354.9500', '2. high': '2358.5050', '3. low': '2353.0100', '4. close': '2358.5050', '5. volume': '13852'}, '2022-06-09 10:35:00': {'1. open': '2355.5250', '2. high': '2357.3050', '3. low': '2351.7100', '4. close': '2353.1600', '5. volume': '9261'}, '2022-06-09 10:30:00': {'1. open': '2350.9300', '2. high': '2354.3000', '3. low': '2350.8000', '4. close': '2354.3000', '5. volume': '7401'}, '2022-06-09 10:25:00': {'1. open': '2346.9900', '2. high': '2349.2000', '3. low': '2346.1650', '4. close': '2349.2000', '5. volume': '7359'}, '2022-06-09 10:20:00': {'1. open': '2345.2550', '2. high': '2352.2900', '3. low': '2345.2500', '4. close': '2346.9900', '5. volume': '14290'}, '2022-06-09 10:15:00': {'1. open': '2343.9699', '2. high': '2343.9699', '3. low': '2338.3250', '4. close': '2342.5150', '5. volume': '8300'}, '2022-06-09 10:10:00': {'1. open': '2348.6700', '2. high': '2349.8700', '3. low': '2342.0850', '4. close': '2342.1250', '5. volume': '11496'}, '2022-06-09 10:05:00': {'1. open': '2357.1500', '2. high': '2357.3450', '3. low': '2348.1000', '4. close': '2350.2400', '5. volume': '18885'}, '2022-06-09 10:00:00': {'1. open': '2354.1300', '2. high': '2357.9650', '3. low': '2352.4600', '4. close': '2357.8100', '5. volume': '16407'}, '2022-06-09 09:55:00': {'1. open': '2345.0000', '2. high': '2358.5100', '3. low': '2345.0000', '4. close': '2356.0800', '5. volume': '22873'}, '2022-06-09 09:50:00': {'1. open': '2339.6200', '2. high': '2349.0000', '3. low': '2338.6300', '4. close': '2345.5350', '5. volume': '9281'}, '2022-06-09 09:45:00': {'1. open': '2336.7550', '2. high': '2341.5000', '3. low': '2333.0000', '4. close': '2339.5300', '5. volume': '23680'}, '2022-06-09 09:40:00': {'1. open': '2352.9650', '2. high': '2352.9650', '3. low': '2338.0400', '4. close': '2338.0400', '5. volume': '14871'}, '2022-06-09 09:35:00': {'1. open': '2326.8300', '2. high': '2354.9600', '3. low': '2326.8300', '4. close': '2353.0550', '5. volume': '46486'}, '2022-06-09 09:30:00': {'1. open': '2332.0000', '2. high': '2332.0000', '3. low': '2327.5900', '4. close': '2327.5900', '5. volume': '601'}, '2022-06-09 09:15:00': {'1. open': '2344.7600', '2. high': '2344.7600', '3. low': '2333.0000', '4. close': '2333.0000', '5. volume': '15127'}, '2022-06-09 08:55:00': {'1. open': '2329.8340', '2. high': '2329.8340', '3. low': '2329.8340', '4. close': '2329.8340', '5. volume': '152'}, '2022-06-09 08:40:00': {'1. open': '2335.4000', '2. high': '2335.4000', '3. low': '2335.4000', '4. close': '2335.4000', '5. volume': '235'}, '2022-06-09 08:25:00': {'1. open': '2338.0000', '2. high': '2338.0000', '3. low': '2335.0000', '4. close': '2335.0000', '5. volume': '953'}, '2022-06-09 08:20:00': {'1. open': '2342.0000', '2. high': '2342.0000', '3. low': '2336.0000', '4. close': '2336.0000', '5. volume': '529'}, '2022-06-09 08:05:00': {'1. open': '2361.5986', '2. high': '2361.5986', '3. low': '2361.5986', '4. close': '2361.5986', '5. volume': '281'}, '2022-06-09 07:50:00': {'1. open': '2356.9900', '2. high': '2356.9900', '3. low': '2356.9900', '4. close': '2356.9900', '5. volume': '305'}, '2022-06-09 07:45:00': {'1. open': '2355.0000', '2. high': '2355.0000', '3. low': '2355.0000', '4. close': '2355.0000', '5. volume': '322'}, '2022-06-08 17:20:00': {'1. open': '2346.1800', '2. high': '2346.1800', '3. low': '2344.1000', '4. close': '2344.1000', '5. volume': '1001'}, '2022-06-08 17:15:00': {'1. open': '2347.0000', '2. high': '2347.0000', '3. low': '2347.0000', '4. close': '2347.0000', '5. volume': '113'}, '2022-06-08 16:30:00': {'1. open': '2345.5300', '2. high': '2345.5300', '3. low': '2345.5300', '4. close': '2345.5300', '5. volume': '104'}, '2022-06-08 16:15:00': {'1. open': '2344.7600', '2. high': '2344.7600', '3. low': '2344.7600', '4. close': '2344.7600', '5. volume': '262'}, '2022-06-08 16:10:00': {'1. open': '2344.3600', '2. high': '2344.7600', '3. low': '2344.3600', '4. close': '2344.7600', '5. volume': '4742'}}}]\n"
     ]
    }
   ],
   "source": [
    "import asyncio\n",
    "import aiohttp\n",
    "api_key = API_KEY\n",
    "url = 'https://www.alphavantage.co/query?function=TIME_SERIES_INTRADAY&symbol={}&interval=5min&apikey={}'\n",
    "symbols = ['AAPL', 'GOOG']\n",
    "results = []\n",
    "def get_tasks(session):\n",
    "    tasks = []\n",
    "    for symbol in symbols:\n",
    "        tasks.append(session.get(url.format(symbol, api_key), ssl=False))\n",
    "    return tasks\n",
    "\n",
    "\n",
    "async def get_symbols():\n",
    "    async with aiohttp.ClientSession() as session:\n",
    "        tasks = get_tasks(session)\n",
    "        responses = await asyncio.gather(*tasks)\n",
    "        for response in responses:\n",
    "            results.append(await response.json())\n",
    "asyncio.run(get_symbols())\n",
    "print(results)\n",
    "\n"
   ]
  },
  {
   "cell_type": "code",
   "execution_count": 43,
   "metadata": {},
   "outputs": [
    {
     "data": {
      "text/plain": [
       "'143.0000'"
      ]
     },
     "execution_count": 43,
     "metadata": {},
     "output_type": "execute_result"
    }
   ],
   "source": [
    "results[0]['Time Series (5min)']['2022-06-09 20:00:00']['4. close']\n"
   ]
  },
  {
   "cell_type": "code",
   "execution_count": 44,
   "metadata": {},
   "outputs": [
    {
     "name": "stdout",
     "output_type": "stream",
     "text": [
      "[{'01. symbol': 'SPY', '02. open': '409.3400', '03. high': '411.7400', '04. low': '401.4400', '05. price': '401.4400', '06. volume': '86289796', '07. latest trading day': '2022-06-09', '08. previous close': '411.2200', '09. change': '-9.7800', '10. change percent': '-2.3783%'}, {'01. symbol': 'MLFB', '02. open': '0.0230', '03. high': '0.0238', '04. low': '0.0215', '05. price': '0.0238', '06. volume': '1438957', '07. latest trading day': '2022-06-09', '08. previous close': '0.0228', '09. change': '0.0010', '10. change percent': '4.3860%'}, {'01. symbol': 'TSLA', '02. open': '748.0200', '03. high': '766.6399', '04. low': '717.9800', '05. price': '719.1200', '06. volume': '32163769', '07. latest trading day': '2022-06-09', '08. previous close': '725.6000', '09. change': '-6.4800', '10. change percent': '-0.8931%'}]\n"
     ]
    }
   ],
   "source": [
    "import asyncio\n",
    "from alpha_vantage.async_support.timeseries import TimeSeries\n",
    "import nest_asyncio\n",
    "nest_asyncio.apply()\n",
    "\n",
    "symbols = ['SPY', 'MLFB', 'TSLA']\n",
    "\n",
    "API_KEY = \"T5188JTJK6FNUTB2\"\n",
    "\n",
    "\n",
    "async def get_data(symbol):\n",
    "    ts = TimeSeries(key=API_KEY)\n",
    "    data, _ = await ts.get_quote_endpoint(symbol)\n",
    "    await ts.close()\n",
    "    return data\n",
    "\n",
    "loop = asyncio.get_event_loop()\n",
    "tasks = [get_data(symbol) for symbol in symbols]\n",
    "group1 = asyncio.gather(*tasks)\n",
    "results = loop.run_until_complete(group1)\n",
    "print(results)"
   ]
  }
 ],
 "metadata": {
  "kernelspec": {
   "display_name": "Python 3.9.7 ('base')",
   "language": "python",
   "name": "python3"
  },
  "language_info": {
   "codemirror_mode": {
    "name": "ipython",
    "version": 3
   },
   "file_extension": ".py",
   "mimetype": "text/x-python",
   "name": "python",
   "nbconvert_exporter": "python",
   "pygments_lexer": "ipython3",
   "version": "3.9.7"
  },
  "orig_nbformat": 4,
  "vscode": {
   "interpreter": {
    "hash": "90ab7f42822350701bb410eceee8b55aec8456692f501c53b53631fc48e01930"
   }
  }
 },
 "nbformat": 4,
 "nbformat_minor": 2
}
